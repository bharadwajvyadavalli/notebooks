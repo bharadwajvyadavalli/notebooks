{
 "cells": [
  {
   "cell_type": "markdown",
   "id": "016c99c8",
   "metadata": {},
   "source": [
    "# ARIMA Forecasting & Metrics Notebook\n",
    "This notebook contains various functions to train an ARIMA model and compute different forecast evaluation metrics."
   ]
  },
  {
   "cell_type": "code",
   "execution_count": null,
   "id": "703b3aff",
   "metadata": {},
   "outputs": [],
   "source": [
    "import numpy as np\n",
    "import pandas as pd\n",
    "import matplotlib.pyplot as plt\n",
    "import statsmodels.api as sm\n",
    "from statsmodels.tsa.arima.model import ARIMA\n",
    "from sklearn.metrics import r2_score\n",
    "from scipy.stats import pearsonr\n",
    "from scipy.spatial.distance import jensenshannon"
   ]
  },
  {
   "cell_type": "markdown",
   "id": "9c7a385b",
   "metadata": {},
   "source": [
    "## Metric Functions"
   ]
  },
  {
   "cell_type": "code",
   "execution_count": null,
   "id": "cf5397d0",
   "metadata": {},
   "outputs": [],
   "source": [
    "def compute_bias(actuals, preds):\n",
    "    residuals = actuals - preds\n",
    "    return np.mean(residuals)\n",
    "\n",
    "def compute_residual_count(actuals, preds):\n",
    "    return len(actuals - preds)\n",
    "\n",
    "def detect_anomalies_shesd(residuals, threshold_factor=3):\n",
    "    mean_val = residuals.mean()\n",
    "    std_val = residuals.std()\n",
    "    anomalies = residuals[np.abs(residuals - mean_val) > threshold_factor * std_val]\n",
    "    return len(anomalies)\n",
    "\n",
    "def compute_tracking_signal(actuals, preds):\n",
    "    residuals = actuals - preds\n",
    "    mad = np.mean(np.abs(residuals))\n",
    "    return np.sum(residuals) / mad if mad != 0 else np.nan"
   ]
  },
  {
   "cell_type": "code",
   "execution_count": null,
   "id": "418325cb",
   "metadata": {},
   "outputs": [],
   "source": [
    "def compute_picp_and_calibration_error(actuals, lower, upper, alpha=0.95):\n",
    "    total_count = len(actuals)\n",
    "    coverage_count = sum((actuals >= lower) & (actuals <= upper))\n",
    "    picp = coverage_count / total_count\n",
    "    calibration_error = abs(alpha - picp)\n",
    "    return picp, calibration_error"
   ]
  },
  {
   "cell_type": "code",
   "execution_count": null,
   "id": "e119bb5d",
   "metadata": {},
   "outputs": [],
   "source": [
    "def compute_ause(preds, actuals, uncertainties, metric='mae'):\n",
    "    preds, actuals, uncertainties = np.asarray(preds), np.asarray(actuals), np.asarray(uncertainties)\n",
    "    n = len(preds)\n",
    "    sorted_idx = np.argsort(uncertainties)\n",
    "    error_list = np.zeros(n + 1)\n",
    "\n",
    "    for k in range(n + 1):\n",
    "        kept_idx = sorted_idx[k:]\n",
    "        diff = actuals[kept_idx] - preds[kept_idx]\n",
    "        error_list[k] = np.mean(np.abs(diff)) if metric == 'mae' else np.mean(diff ** 2)\n",
    "\n",
    "    return np.trapz(error_list, dx=1.0 / n)"
   ]
  },
  {
   "cell_type": "code",
   "execution_count": null,
   "id": "64e1c5d1",
   "metadata": {},
   "outputs": [],
   "source": [
    "def compute_directional_accuracy(actuals, preds, train_last_value=np.nan):\n",
    "    direction_matches = sum(np.sign(preds[1:] - preds[:-1]) == np.sign(actuals[1:] - actuals[:-1]))\n",
    "    return direction_matches / (len(actuals) - 1) if len(actuals) > 1 else np.nan"
   ]
  },
  {
   "cell_type": "code",
   "execution_count": null,
   "id": "f39fa13e",
   "metadata": {},
   "outputs": [],
   "source": [
    "def compute_r_squared(actuals, preds):\n",
    "    return r2_score(actuals, preds) if len(actuals) > 1 else np.nan\n",
    "\n",
    "def compute_pearson_correlation(actuals, preds):\n",
    "    return pearsonr(actuals, preds)[0] if len(actuals) > 1 else np.nan"
   ]
  },
  {
   "cell_type": "code",
   "execution_count": null,
   "id": "7d3a301e",
   "metadata": {},
   "outputs": [],
   "source": [
    "def compute_jensen_shannon_distance(actuals, preds):\n",
    "    hist_actuals, bin_edges = np.histogram(actuals, bins=20, density=True)\n",
    "    hist_preds, _ = np.histogram(preds, bins=bin_edges, density=True)\n",
    "    return jensenshannon(hist_actuals, hist_preds, base=2)"
   ]
  },
  {
   "cell_type": "markdown",
   "id": "ff768538",
   "metadata": {},
   "source": [
    "## ARIMA Rolling Forecast Function"
   ]
  },
  {
   "cell_type": "code",
   "execution_count": null,
   "id": "43a65dc7",
   "metadata": {},
   "outputs": [],
   "source": [
    "def train_arima_rolling(series, p=1, d=1, q=1, test_size=12, alpha=0.95):\n",
    "    train, test = series.iloc[:-test_size], series.iloc[-test_size:]\n",
    "    history, preds, conf_lower, conf_upper = train.copy(), [], [], []\n",
    "\n",
    "    for idx in test.index:\n",
    "        model = ARIMA(history, order=(p, d, q)).fit()\n",
    "        forecast = model.get_forecast(steps=1)\n",
    "        preds.append(forecast.predicted_mean[0])\n",
    "        interval = forecast.conf_int(alpha=1-alpha).iloc[0]\n",
    "        conf_lower.append(interval[0])\n",
    "        conf_upper.append(interval[1])\n",
    "        history = history.append(pd.Series(test.loc[idx], index=[idx]))\n",
    "\n",
    "    return test, pd.Series(preds, index=test.index), pd.Series(conf_lower, index=test.index), pd.Series(conf_upper, index=test.index)"
   ]
  },
  {
   "cell_type": "markdown",
   "id": "b03a9590",
   "metadata": {},
   "source": [
    "## Running ARIMA and Computing Metrics"
   ]
  },
  {
   "cell_type": "code",
   "execution_count": null,
   "id": "2f6c10a0",
   "metadata": {},
   "outputs": [],
   "source": [
    "def run_arima_metrics(df, column='AUINSA', p=1, d=1, q=1, test_size=12, alpha=0.95, plot=False):\n",
    "    df[column].fillna(method='ffill', inplace=True)\n",
    "    test, preds, conf_lower, conf_upper = train_arima_rolling(df[column], p, d, q, test_size, alpha)\n",
    "    actuals = test\n",
    "\n",
    "    metrics = {\n",
    "        'Bias': compute_bias(actuals, preds),\n",
    "        'R_squared': compute_r_squared(actuals, preds),\n",
    "        'Pearson_Correlation': compute_pearson_correlation(actuals, preds),\n",
    "        'Jensen_Shannon_Distance': compute_jensen_shannon_distance(actuals, preds)\n",
    "    }\n",
    "\n",
    "    if plot:\n",
    "        plt.figure(figsize=(10,5))\n",
    "        plt.plot(df[column], label='Actuals')\n",
    "        plt.plot(preds, label='Predictions', linestyle='--')\n",
    "        plt.fill_between(preds.index, conf_lower, conf_upper, color='lightblue', alpha=0.3, label='Confidence Interval')\n",
    "        plt.legend()\n",
    "        plt.show()\n",
    "\n",
    "    return metrics"
   ]
  },
  {
   "cell_type": "markdown",
   "id": "b7a2cabf",
   "metadata": {},
   "source": [
    "## Example Usage"
   ]
  },
  {
   "cell_type": "code",
   "execution_count": null,
   "id": "7dadd054",
   "metadata": {},
   "outputs": [],
   "source": [
    "# Example usage\n",
    "# df = pd.read_csv('your_data.csv', index_col='Date', parse_dates=True)\n",
    "# metrics = run_arima_metrics(df, column='AUINSA', p=1, d=1, q=1, plot=True)\n",
    "# print(metrics)"
   ]
  }
 ],
 "metadata": {},
 "nbformat": 4,
 "nbformat_minor": 5
}
