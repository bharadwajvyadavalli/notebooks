{
 "cells": [
  {
   "cell_type": "markdown",
   "id": "5a43ed4d",
   "metadata": {},
   "source": [
    "# Cell 1: Importing Pandas and Basic DataFrame Operations\n",
    "In this cell, we import the pandas library, create a simple DataFrame, and demonstrate some basic operations such as displaying the DataFrame, getting information about it, and generating descriptive statistics."
   ]
  },
  {
   "cell_type": "code",
   "execution_count": null,
   "id": "8ac9339e",
   "metadata": {},
   "outputs": [],
   "source": [
    "import pandas as pd\n",
    "\n",
    "# Creating a simple DataFrame\n",
    "data = {'Name': ['Alice', 'Bob', 'Charlie', 'David', 'Eve'],\n",
    "        'Age': [24, 27, 22, 32, 29],\n",
    "        'City': ['New York', 'Los Angeles', 'Chicago', 'Houston', 'Phoenix']}\n",
    "\n",
    "df = pd.DataFrame(data)\n",
    "\n",
    "# Display the DataFrame\n",
    "print(\"DataFrame:\")\n",
    "print(df)\n",
    "\n",
    "# Basic Operations\n",
    "print(\"\\nDataFrame Info:\")\n",
    "print(df.info())\n",
    "\n",
    "print(\"\\nDataFrame Description:\")\n",
    "print(df.describe())"
   ]
  },
  {
   "cell_type": "markdown",
   "id": "18371f2a",
   "metadata": {},
   "source": [
    "# Cell 2: Data Selection and Filtering\n",
    "This cell demonstrates how to select specific columns and rows in a DataFrame. We select a single column, multiple columns, and filter rows based on a condition."
   ]
  },
  {
   "cell_type": "code",
   "execution_count": null,
   "id": "45a97430",
   "metadata": {},
   "outputs": [],
   "source": [
    "# Selecting a single column\n",
    "ages = df['Age']\n",
    "print(\"Ages:\")\n",
    "print(ages)\n",
    "\n",
    "# Selecting multiple columns\n",
    "name_city = df[['Name', 'City']]\n",
    "print(\"\\nName and City:\")\n",
    "print(name_city)\n",
    "\n",
    "# Filtering rows based on a condition\n",
    "age_filter = df[df['Age'] > 25]\n",
    "print(\"\\nRows where Age > 25:\")\n",
    "print(age_filter)"
   ]
  },
  {
   "cell_type": "markdown",
   "id": "9e8a1f4c",
   "metadata": {},
   "source": [
    "# Cell 3: Handling Missing Data\n",
    "This cell covers how to handle missing data in a DataFrame. We add a column with missing values, then demonstrate how to fill and drop missing values."
   ]
  },
  {
   "cell_type": "code",
   "execution_count": null,
   "id": "7c012de2",
   "metadata": {},
   "outputs": [],
   "source": [
    "# Adding a column with missing values\n",
    "df['Salary'] = [50000, None, 70000, None, 60000]\n",
    "print(\"DataFrame with NaN values:\")\n",
    "print(df)\n",
    "\n",
    "# Filling missing values\n",
    "df_filled = df.fillna(0)\n",
    "print(\"\\nDataFrame with NaN filled with 0:\")\n",
    "print(df_filled)\n",
    "\n",
    "# Dropping rows with missing values\n",
    "df_dropped = df.dropna()\n",
    "print(\"\\nDataFrame with NaN rows dropped:\")\n",
    "print(df_dropped)"
   ]
  },
  {
   "cell_type": "markdown",
   "id": "85e37a1a",
   "metadata": {},
   "source": [
    "# Cell 4: GroupBy Operations\n",
    "In this cell, we demonstrate the use of the groupby function to group data by a specific column. We calculate summary statistics for each group and apply multiple aggregation functions."
   ]
  },
  {
   "cell_type": "code",
   "execution_count": null,
   "id": "c8786e51",
   "metadata": {},
   "outputs": [],
   "source": [
    "# Grouping by a column and calculating summary statistics\n",
    "grouped = df.groupby('City')['Age'].mean()\n",
    "print(\"Average Age by City:\")\n",
    "print(grouped)\n",
    "\n",
    "# Applying multiple aggregation functions\n",
    "grouped_multi = df.groupby('City').agg({'Age': ['mean', 'min', 'max']})\n",
    "print(\"\\nMultiple Aggregations:\")\n",
    "print(grouped_multi)"
   ]
  },
  {
   "cell_type": "markdown",
   "id": "3147d388",
   "metadata": {},
   "source": [
    "# Cell 5: Merging and Joining DataFrames\n",
    "This cell demonstrates how to merge two DataFrames based on a common column. We create a second DataFrame and merge it with the original one using the merge function."
   ]
  },
  {
   "cell_type": "code",
   "execution_count": null,
   "id": "8bc90650",
   "metadata": {},
   "outputs": [],
   "source": [
    "# Creating another DataFrame\n",
    "data2 = {'Name': ['Alice', 'Bob', 'Charlie', 'David', 'Eve'],\n",
    "         'Salary': [50000, 48000, 70000, 55000, 60000]}\n",
    "df2 = pd.DataFrame(data2)\n",
    "\n",
    "# Merging DataFrames on 'Name' column\n",
    "merged_df = pd.merge(df, df2, on='Name', how='inner', suffixes=('_df', '_df2'))\n",
    "print(\"Merged DataFrame:\")\n",
    "print(merged_df)"
   ]
  },
  {
   "cell_type": "markdown",
   "id": "5dd8de7b",
   "metadata": {},
   "source": [
    "# Cell 6: Pivot Tables\n",
    "In this cell, we demonstrate how to create pivot tables to summarize data. We create a simple pivot table to calculate the average age by city and a more complex pivot table with multiple aggregations."
   ]
  },
  {
   "cell_type": "code",
   "execution_count": null,
   "id": "864b7798",
   "metadata": {},
   "outputs": [],
   "source": [
    "# Creating a pivot table\n",
    "pivot = df.pivot_table(values='Age', index='City', aggfunc='mean')\n",
    "print(\"Pivot Table - Average Age by City:\")\n",
    "print(pivot)\n",
    "\n",
    "# More complex pivot table with multiple aggregations\n",
    "pivot_multi = df.pivot_table(values='Age', index='City', aggfunc={'Age': ['mean', 'sum', 'count']})\n",
    "print(\"\\nPivot Table with Multiple Aggregations:\")\n",
    "print(pivot_multi)"
   ]
  },
  {
   "cell_type": "markdown",
   "id": "85d4c4f7",
   "metadata": {},
   "source": [
    "# Cell 7: Custom Functions and Lambdas\n",
    "This cell demonstrates how to apply custom functions and lambda functions to DataFrame columns. We define a custom function to categorize ages, use a lambda function to calculate the length of names, and another lambda function to create a conditional column."
   ]
  },
  {
   "cell_type": "code",
   "execution_count": null,
   "id": "1853b482",
   "metadata": {},
   "outputs": [],
   "source": [
    "# Defining a custom function to apply to DataFrame\n",
    "def age_category(age):\n",
    "    if age < 25:\n",
    "        return 'Youth'\n",
    "    elif 25 <= age < 30:\n",
    "        return 'Young Adult'\n",
    "    else:\n",
    "        return 'Adult'\n",
    "\n",
    "# Applying the custom function using apply\n",
    "df['Age Category'] = df['Age'].apply(age_category)\n",
    "print(\"DataFrame with Age Category:\")\n",
    "print(df)\n",
    "\n",
    "# Using lambda functions to create a new column\n",
    "df['Name Length'] = df['Name'].apply(lambda x: len(x))\n",
    "print(\"\\nDataFrame with Name Length:\")\n",
    "print(df)\n",
    "\n",
    "# Using a lambda function for conditional column creation\n",
    "df['Is Senior'] = df['Age'].apply(lambda x: 'Yes' if x > 30 else 'No')\n",
    "print(\"\\nDataFrame with Is Senior:\")\n",
    "print(df)"
   ]
  }
 ],
 "metadata": {},
 "nbformat": 4,
 "nbformat_minor": 5
}
