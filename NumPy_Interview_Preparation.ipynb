{
 "cells": [
  {
   "cell_type": "markdown",
   "id": "556a3f4c",
   "metadata": {},
   "source": [
    "# Cell 1: Importing NumPy and Basic Array Operations\n",
    "In this cell, we import the numpy library, create a simple array, and demonstrate some basic operations such as array creation, reshaping, and accessing elements."
   ]
  },
  {
   "cell_type": "code",
   "execution_count": null,
   "id": "91d84aca",
   "metadata": {},
   "outputs": [],
   "source": [
    "import numpy as np\n",
    "\n",
    "# Creating a simple array\n",
    "arr = np.array([1, 2, 3, 4, 5])\n",
    "print(\"Array:\")\n",
    "print(arr)\n",
    "\n",
    "# Reshaping the array\n",
    "arr_reshaped = arr.reshape((1, 5))\n",
    "print(\"\\nReshaped Array:\")\n",
    "print(arr_reshaped)\n",
    "\n",
    "# Accessing elements\n",
    "print(\"\\nFirst Element:\")\n",
    "print(arr[0])\n",
    "print(\"\\nLast Element:\")\n",
    "print(arr[-1])"
   ]
  },
  {
   "cell_type": "markdown",
   "id": "63421cb6",
   "metadata": {},
   "source": [
    "# Cell 2: Array Operations and Broadcasting\n",
    "This cell demonstrates various array operations such as element-wise operations, aggregation functions, and broadcasting."
   ]
  },
  {
   "cell_type": "code",
   "execution_count": null,
   "id": "b1dcca5f",
   "metadata": {},
   "outputs": [],
   "source": [
    "# Creating two arrays\n",
    "arr1 = np.array([1, 2, 3])\n",
    "arr2 = np.array([4, 5, 6])\n",
    "\n",
    "# Element-wise operations\n",
    "sum_arr = arr1 + arr2\n",
    "print(\"Element-wise Sum:\")\n",
    "print(sum_arr)\n",
    "\n",
    "product_arr = arr1 * arr2\n",
    "print(\"\\nElement-wise Product:\")\n",
    "print(product_arr)\n",
    "\n",
    "# Aggregation functions\n",
    "print(\"\\nSum of elements in arr1:\")\n",
    "print(np.sum(arr1))\n",
    "print(\"\\nMean of elements in arr2:\")\n",
    "print(np.mean(arr2))\n",
    "\n",
    "# Broadcasting\n",
    "arr3 = np.array([1, 2, 3])\n",
    "scalar = 2\n",
    "broadcasted_arr = arr3 * scalar\n",
    "print(\"\\nBroadcasted Array:\")\n",
    "print(broadcasted_arr)"
   ]
  }
 ],
 "metadata": {},
 "nbformat": 4,
 "nbformat_minor": 5
}
